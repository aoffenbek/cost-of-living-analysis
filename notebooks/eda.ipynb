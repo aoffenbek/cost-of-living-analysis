import pandas as pd
import matplotlib.pyplot as plt
import seaborn as sns
import os

data_folder = "../data/cleaned"

dfs = []
for file in os.listdir(data_folder):
    if file.endswith(".csv"):
        df = pd.read_csv(os.path.join(data_folder, file))
        dfs.append(df)

df_all = pd.concat(dfs)

# Filter example: Rent
rent_df = df_all[df_all["Item"].str.contains("Rent")]

plt.figure(figsize=(12, 6))
sns.boxplot(x="Country", y="Price_Clean", data=rent_df)
plt.xticks(rotation=45)
plt.title("Comparison of Rent Prices")
plt.show()
